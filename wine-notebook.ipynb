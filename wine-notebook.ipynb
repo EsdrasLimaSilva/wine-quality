{
 "cells": [
  {
   "cell_type": "markdown",
   "id": "b6d3907f-5b04-46c4-9c27-c4329991c104",
   "metadata": {},
   "source": [
    "# Red Wine Quality\n",
    "\n",
    "This project was developed to create model capable of predicting the quality of a Red Wine based on some features. This project also tries to estipulate the main attributes (features) that are related to the quality.\n",
    "\n",
    "## Goal\n",
    "The target variable is the **quality** and is a integer. Altough it is numeric, this project uses a classification approach, due to the fact that the quality is more a classfication number than a continuous value!\n",
    "\n",
    "## Data\n",
    "The data was provided by Kaggle, available in: https://www.kaggle.com/datasets/uciml/red-wine-quality-cortez-et-al-2009\n",
    "\n",
    "Tha data has the following sctructure:\n",
    "\n",
    "1. fixed acidity\n",
    "2. volatile acidity\n",
    "3. citric acid\n",
    "4. residual sugar\n",
    "5. chlorides\n",
    "6. free sulfur dioxide\n",
    "7. total sulfur dioxide\n",
    "8. density\n",
    "9. pH\n",
    "10. sulphates\n",
    "11. alcohol\n",
    "12. **quality (target)**"
   ]
  },
  {
   "cell_type": "markdown",
   "id": "31df7ec6-4667-4b63-b909-c400e1b1e713",
   "metadata": {},
   "source": [
    "## Understanding the data\n",
    "\n",
    "The following cells tries to understand the relation between features and the target (quality)"
   ]
  },
  {
   "cell_type": "code",
   "execution_count": 251,
   "id": "aca50b56-bec2-4129-b870-8aa519ef516a",
   "metadata": {},
   "outputs": [],
   "source": [
    "# Importing tools\n",
    "import pandas as pd\n",
    "import numpy as np\n",
    "import matplotlib.pyplot as plt\n",
    "\n",
    "# handle tools\n",
    "from sklearn.model_selection import train_test_split\n",
    "\n",
    "# models(estimators)\n",
    "from sklearn.ensemble import RandomForestClassifier\n",
    "from sklearn.svm import SVC\n",
    "from sklearn.neighbors import KNeighborsClassifier\n",
    "from sklearn.ensemble import HistGradientBoostingClassifier\n",
    "\n",
    "# evaluation tools\n",
    "from sklearn.model_selection import cross_val_score, RandomizedSearchCV\n",
    "\n",
    "# metrics\n",
    "from sklearn.metrics import RocCurveDisplay, ConfusionMatrixDisplay, classification_report"
   ]
  },
  {
   "cell_type": "markdown",
   "id": "010d0862-4ed4-4e95-8283-9d65b8c45430",
   "metadata": {},
   "source": [
    "### Seeing the data"
   ]
  },
  {
   "cell_type": "code",
   "execution_count": 171,
   "id": "6bac212c-511b-41d1-92c4-55dbda16172e",
   "metadata": {},
   "outputs": [
    {
     "data": {
      "text/plain": [
       "1599"
      ]
     },
     "execution_count": 171,
     "metadata": {},
     "output_type": "execute_result"
    }
   ],
   "source": [
    "# getting the data\n",
    "df = pd.read_csv(\"data/winequality-red.csv\")\n",
    "df.sort_values(by=[\"quality\"], inplace=True)\n",
    "len(df)"
   ]
  },
  {
   "cell_type": "markdown",
   "id": "b9ace533-5d42-4db4-a975-8cf4b89c5376",
   "metadata": {},
   "source": [
    "### Worst wines"
   ]
  },
  {
   "cell_type": "code",
   "execution_count": 119,
   "id": "f18aad4f-cb18-45d4-838f-1b3e1a660da8",
   "metadata": {},
   "outputs": [
    {
     "data": {
      "text/html": [
       "<div>\n",
       "<style scoped>\n",
       "    .dataframe tbody tr th:only-of-type {\n",
       "        vertical-align: middle;\n",
       "    }\n",
       "\n",
       "    .dataframe tbody tr th {\n",
       "        vertical-align: top;\n",
       "    }\n",
       "\n",
       "    .dataframe thead th {\n",
       "        text-align: right;\n",
       "    }\n",
       "</style>\n",
       "<table border=\"1\" class=\"dataframe\">\n",
       "  <thead>\n",
       "    <tr style=\"text-align: right;\">\n",
       "      <th></th>\n",
       "      <th>fixed acidity</th>\n",
       "      <th>volatile acidity</th>\n",
       "      <th>citric acid</th>\n",
       "      <th>residual sugar</th>\n",
       "      <th>chlorides</th>\n",
       "      <th>free sulfur dioxide</th>\n",
       "      <th>total sulfur dioxide</th>\n",
       "      <th>density</th>\n",
       "      <th>pH</th>\n",
       "      <th>sulphates</th>\n",
       "      <th>alcohol</th>\n",
       "      <th>quality</th>\n",
       "    </tr>\n",
       "  </thead>\n",
       "  <tbody>\n",
       "    <tr>\n",
       "      <th>1478</th>\n",
       "      <td>7.1</td>\n",
       "      <td>0.875</td>\n",
       "      <td>0.05</td>\n",
       "      <td>5.7</td>\n",
       "      <td>0.082</td>\n",
       "      <td>3.0</td>\n",
       "      <td>14.0</td>\n",
       "      <td>0.99808</td>\n",
       "      <td>3.40</td>\n",
       "      <td>0.52</td>\n",
       "      <td>10.2</td>\n",
       "      <td>3</td>\n",
       "    </tr>\n",
       "    <tr>\n",
       "      <th>832</th>\n",
       "      <td>10.4</td>\n",
       "      <td>0.440</td>\n",
       "      <td>0.42</td>\n",
       "      <td>1.5</td>\n",
       "      <td>0.145</td>\n",
       "      <td>34.0</td>\n",
       "      <td>48.0</td>\n",
       "      <td>0.99832</td>\n",
       "      <td>3.38</td>\n",
       "      <td>0.86</td>\n",
       "      <td>9.9</td>\n",
       "      <td>3</td>\n",
       "    </tr>\n",
       "    <tr>\n",
       "      <th>899</th>\n",
       "      <td>8.3</td>\n",
       "      <td>1.020</td>\n",
       "      <td>0.02</td>\n",
       "      <td>3.4</td>\n",
       "      <td>0.084</td>\n",
       "      <td>6.0</td>\n",
       "      <td>11.0</td>\n",
       "      <td>0.99892</td>\n",
       "      <td>3.48</td>\n",
       "      <td>0.49</td>\n",
       "      <td>11.0</td>\n",
       "      <td>3</td>\n",
       "    </tr>\n",
       "    <tr>\n",
       "      <th>1374</th>\n",
       "      <td>6.8</td>\n",
       "      <td>0.815</td>\n",
       "      <td>0.00</td>\n",
       "      <td>1.2</td>\n",
       "      <td>0.267</td>\n",
       "      <td>16.0</td>\n",
       "      <td>29.0</td>\n",
       "      <td>0.99471</td>\n",
       "      <td>3.32</td>\n",
       "      <td>0.51</td>\n",
       "      <td>9.8</td>\n",
       "      <td>3</td>\n",
       "    </tr>\n",
       "    <tr>\n",
       "      <th>459</th>\n",
       "      <td>11.6</td>\n",
       "      <td>0.580</td>\n",
       "      <td>0.66</td>\n",
       "      <td>2.2</td>\n",
       "      <td>0.074</td>\n",
       "      <td>10.0</td>\n",
       "      <td>47.0</td>\n",
       "      <td>1.00080</td>\n",
       "      <td>3.25</td>\n",
       "      <td>0.57</td>\n",
       "      <td>9.0</td>\n",
       "      <td>3</td>\n",
       "    </tr>\n",
       "  </tbody>\n",
       "</table>\n",
       "</div>"
      ],
      "text/plain": [
       "      fixed acidity  volatile acidity  citric acid  residual sugar  chlorides  \\\n",
       "1478            7.1             0.875         0.05             5.7      0.082   \n",
       "832            10.4             0.440         0.42             1.5      0.145   \n",
       "899             8.3             1.020         0.02             3.4      0.084   \n",
       "1374            6.8             0.815         0.00             1.2      0.267   \n",
       "459            11.6             0.580         0.66             2.2      0.074   \n",
       "\n",
       "      free sulfur dioxide  total sulfur dioxide  density    pH  sulphates  \\\n",
       "1478                  3.0                  14.0  0.99808  3.40       0.52   \n",
       "832                  34.0                  48.0  0.99832  3.38       0.86   \n",
       "899                   6.0                  11.0  0.99892  3.48       0.49   \n",
       "1374                 16.0                  29.0  0.99471  3.32       0.51   \n",
       "459                  10.0                  47.0  1.00080  3.25       0.57   \n",
       "\n",
       "      alcohol  quality  \n",
       "1478     10.2        3  \n",
       "832       9.9        3  \n",
       "899      11.0        3  \n",
       "1374      9.8        3  \n",
       "459       9.0        3  "
      ]
     },
     "execution_count": 119,
     "metadata": {},
     "output_type": "execute_result"
    }
   ],
   "source": [
    "df.head()"
   ]
  },
  {
   "cell_type": "markdown",
   "id": "43942a8e-d1ea-4e6d-b6c6-1b57f883d5da",
   "metadata": {},
   "source": [
    "### Best wines"
   ]
  },
  {
   "cell_type": "code",
   "execution_count": 120,
   "id": "6df00af5-c026-494c-9807-42ff355f7d11",
   "metadata": {},
   "outputs": [
    {
     "data": {
      "text/html": [
       "<div>\n",
       "<style scoped>\n",
       "    .dataframe tbody tr th:only-of-type {\n",
       "        vertical-align: middle;\n",
       "    }\n",
       "\n",
       "    .dataframe tbody tr th {\n",
       "        vertical-align: top;\n",
       "    }\n",
       "\n",
       "    .dataframe thead th {\n",
       "        text-align: right;\n",
       "    }\n",
       "</style>\n",
       "<table border=\"1\" class=\"dataframe\">\n",
       "  <thead>\n",
       "    <tr style=\"text-align: right;\">\n",
       "      <th></th>\n",
       "      <th>fixed acidity</th>\n",
       "      <th>volatile acidity</th>\n",
       "      <th>citric acid</th>\n",
       "      <th>residual sugar</th>\n",
       "      <th>chlorides</th>\n",
       "      <th>free sulfur dioxide</th>\n",
       "      <th>total sulfur dioxide</th>\n",
       "      <th>density</th>\n",
       "      <th>pH</th>\n",
       "      <th>sulphates</th>\n",
       "      <th>alcohol</th>\n",
       "      <th>quality</th>\n",
       "    </tr>\n",
       "  </thead>\n",
       "  <tbody>\n",
       "    <tr>\n",
       "      <th>495</th>\n",
       "      <td>10.7</td>\n",
       "      <td>0.35</td>\n",
       "      <td>0.53</td>\n",
       "      <td>2.6</td>\n",
       "      <td>0.070</td>\n",
       "      <td>5.0</td>\n",
       "      <td>16.0</td>\n",
       "      <td>0.99720</td>\n",
       "      <td>3.15</td>\n",
       "      <td>0.65</td>\n",
       "      <td>11.0</td>\n",
       "      <td>8</td>\n",
       "    </tr>\n",
       "    <tr>\n",
       "      <th>1403</th>\n",
       "      <td>7.2</td>\n",
       "      <td>0.33</td>\n",
       "      <td>0.33</td>\n",
       "      <td>1.7</td>\n",
       "      <td>0.061</td>\n",
       "      <td>3.0</td>\n",
       "      <td>13.0</td>\n",
       "      <td>0.99600</td>\n",
       "      <td>3.23</td>\n",
       "      <td>1.10</td>\n",
       "      <td>10.0</td>\n",
       "      <td>8</td>\n",
       "    </tr>\n",
       "    <tr>\n",
       "      <th>1090</th>\n",
       "      <td>10.0</td>\n",
       "      <td>0.26</td>\n",
       "      <td>0.54</td>\n",
       "      <td>1.9</td>\n",
       "      <td>0.083</td>\n",
       "      <td>42.0</td>\n",
       "      <td>74.0</td>\n",
       "      <td>0.99451</td>\n",
       "      <td>2.98</td>\n",
       "      <td>0.63</td>\n",
       "      <td>11.8</td>\n",
       "      <td>8</td>\n",
       "    </tr>\n",
       "    <tr>\n",
       "      <th>1449</th>\n",
       "      <td>7.2</td>\n",
       "      <td>0.38</td>\n",
       "      <td>0.31</td>\n",
       "      <td>2.0</td>\n",
       "      <td>0.056</td>\n",
       "      <td>15.0</td>\n",
       "      <td>29.0</td>\n",
       "      <td>0.99472</td>\n",
       "      <td>3.23</td>\n",
       "      <td>0.76</td>\n",
       "      <td>11.3</td>\n",
       "      <td>8</td>\n",
       "    </tr>\n",
       "    <tr>\n",
       "      <th>1549</th>\n",
       "      <td>7.4</td>\n",
       "      <td>0.36</td>\n",
       "      <td>0.30</td>\n",
       "      <td>1.8</td>\n",
       "      <td>0.074</td>\n",
       "      <td>17.0</td>\n",
       "      <td>24.0</td>\n",
       "      <td>0.99419</td>\n",
       "      <td>3.24</td>\n",
       "      <td>0.70</td>\n",
       "      <td>11.4</td>\n",
       "      <td>8</td>\n",
       "    </tr>\n",
       "  </tbody>\n",
       "</table>\n",
       "</div>"
      ],
      "text/plain": [
       "      fixed acidity  volatile acidity  citric acid  residual sugar  chlorides  \\\n",
       "495            10.7              0.35         0.53             2.6      0.070   \n",
       "1403            7.2              0.33         0.33             1.7      0.061   \n",
       "1090           10.0              0.26         0.54             1.9      0.083   \n",
       "1449            7.2              0.38         0.31             2.0      0.056   \n",
       "1549            7.4              0.36         0.30             1.8      0.074   \n",
       "\n",
       "      free sulfur dioxide  total sulfur dioxide  density    pH  sulphates  \\\n",
       "495                   5.0                  16.0  0.99720  3.15       0.65   \n",
       "1403                  3.0                  13.0  0.99600  3.23       1.10   \n",
       "1090                 42.0                  74.0  0.99451  2.98       0.63   \n",
       "1449                 15.0                  29.0  0.99472  3.23       0.76   \n",
       "1549                 17.0                  24.0  0.99419  3.24       0.70   \n",
       "\n",
       "      alcohol  quality  \n",
       "495      11.0        8  \n",
       "1403     10.0        8  \n",
       "1090     11.8        8  \n",
       "1449     11.3        8  \n",
       "1549     11.4        8  "
      ]
     },
     "execution_count": 120,
     "metadata": {},
     "output_type": "execute_result"
    }
   ],
   "source": [
    "df.tail()"
   ]
  },
  {
   "cell_type": "markdown",
   "id": "63ec95f3-3908-4a35-8f43-efdb2ab8d966",
   "metadata": {},
   "source": [
    "### Potential features related to quality\n",
    "\n",
    "One features maybe are strongly related to the quality. As it shows, the best wines has **lower** `volatile acidity."
   ]
  },
  {
   "cell_type": "markdown",
   "id": "236e15d7-d097-4473-800e-85294ea30109",
   "metadata": {},
   "source": [
    "### Checking for missing values"
   ]
  },
  {
   "cell_type": "code",
   "execution_count": 121,
   "id": "cf7ba2c8-41c6-4bb8-b39f-cdb16d456a46",
   "metadata": {},
   "outputs": [
    {
     "data": {
      "text/plain": [
       "fixed acidity           0\n",
       "volatile acidity        0\n",
       "citric acid             0\n",
       "residual sugar          0\n",
       "chlorides               0\n",
       "free sulfur dioxide     0\n",
       "total sulfur dioxide    0\n",
       "density                 0\n",
       "pH                      0\n",
       "sulphates               0\n",
       "alcohol                 0\n",
       "quality                 0\n",
       "dtype: int64"
      ]
     },
     "execution_count": 121,
     "metadata": {},
     "output_type": "execute_result"
    }
   ],
   "source": [
    "df.isna().sum() #fortunately all rows and columns filled"
   ]
  },
  {
   "cell_type": "markdown",
   "id": "67a7d3b1-f813-408a-ae8b-1afecc21bc70",
   "metadata": {},
   "source": [
    "### Getting some features\n",
    "trying to see the relationship between some intuitive attributes"
   ]
  },
  {
   "cell_type": "code",
   "execution_count": 122,
   "id": "9c992f34-b03c-4926-850a-baf51a007798",
   "metadata": {},
   "outputs": [
    {
     "data": {
      "image/png": "[encoded data removed]",
      "text/plain": [
       "<Figure size 640x480 with 1 Axes>"
      ]
     },
     "metadata": {},
     "output_type": "display_data"
    }
   ],
   "source": [
    "# Trying to see ph -> quality relationship\n",
    "fig, ax = plt.subplots()\n",
    "ax.scatter(df[\"pH\"], df[\"quality\"])\n",
    "ax.set(xlabel=\"PH\", ylabel=\"Quality\")\n",
    "plt.show()"
   ]
  },
  {
   "cell_type": "markdown",
   "id": "2796077a-fa95-47e8-a49e-8967233c366f",
   "metadata": {},
   "source": [
    "Tha plot show us that maybe a good ph is greater than 2.8 and lower than 3.8"
   ]
  },
  {
   "cell_type": "code",
   "execution_count": 123,
   "id": "9b724c4b-50bf-4450-9d78-b34887949f9e",
   "metadata": {},
   "outputs": [
    {
     "data": {
      "image/png": "[encoded data removed]",
      "text/plain": [
       "<Figure size 640x480 with 1 Axes>"
      ]
     },
     "metadata": {},
     "output_type": "display_data"
    }
   ],
   "source": [
    "# Trying to see fixed acidity -> quality relationship\n",
    "fig, ax = plt.subplots()\n",
    "ax.scatter(df[\"fixed acidity\"], df[\"quality\"])\n",
    "ax.set(xlabel=\"fixed acidity\", ylabel=\"Quality\")\n",
    "plt.show()"
   ]
  },
  {
   "cell_type": "markdown",
   "id": "12a09ea3-5d9d-44c6-a8a5-c0ca6cd6baaa",
   "metadata": {},
   "source": [
    "Tha plot show us that maybe a good fixed acidity is lower than 14"
   ]
  },
  {
   "cell_type": "markdown",
   "id": "9ed9c514-747d-41de-9fca-fe0fc7eb177a",
   "metadata": {},
   "source": [
    "## Getting potential features\n",
    "\n",
    "Let's see some plots with the potential features that we saw"
   ]
  },
  {
   "cell_type": "code",
   "execution_count": 124,
   "id": "3be1990b-51c5-4238-adcc-09c29a14ccd2",
   "metadata": {},
   "outputs": [
    {
     "data": {
      "image/png": "[encoded data removed]",
      "text/plain": [
       "<Figure size 640x480 with 1 Axes>"
      ]
     },
     "metadata": {},
     "output_type": "display_data"
    }
   ],
   "source": [
    "# seeing volatile acidity\n",
    "fig, ax = plt.subplots()\n",
    "ax.bar(df[\"volatile acidity\"], df[\"quality\"])\n",
    "ax.set(xlabel=\"volatile acidity\", ylabel=\"Quality\")\n",
    "plt.show()"
   ]
  },
  {
   "cell_type": "markdown",
   "id": "03990253-174b-469b-9f71-1bcf9758edff",
   "metadata": {},
   "source": [
    "We can see a little descendent curve here, but we cannot get any conclusion yet."
   ]
  },
  {
   "cell_type": "markdown",
   "id": "fe791db2-bac9-40be-8495-a85efc4024d0",
   "metadata": {},
   "source": [
    "## Building the model\n",
    "The following cells try some models and chooses the best model (apparently)"
   ]
  },
  {
   "cell_type": "markdown",
   "id": "822d9fc2-33a1-4bba-ab9c-db859f3809f9",
   "metadata": {},
   "source": [
    "### Dividing data\n",
    "Dividing the data between training set and test set"
   ]
  },
  {
   "cell_type": "code",
   "execution_count": 125,
   "id": "6d16c456-a39e-44ca-8f5f-ddf5848b376a",
   "metadata": {},
   "outputs": [],
   "source": [
    "# separating features from target\n",
    "x = df.drop(\"quality\", axis=1)\n",
    "y = df.quality\n",
    "\n",
    "x_train, x_test, y_train, y_test = train_test_split(x, y, test_size=0.2)"
   ]
  },
  {
   "cell_type": "code",
   "execution_count": 178,
   "id": "e2d713eb-a520-4e3e-a0b5-0bad1a747324",
   "metadata": {},
   "outputs": [],
   "source": [
    "np.random.seed(324)\n",
    "# models dict\n",
    "models = {\n",
    "    \"rfc\": RandomForestClassifier(),\n",
    "    \"knn\": KNeighborsClassifier(),\n",
    "    \"svc\": SVC(),\n",
    "    \"hist_grad\": HistGradientBoostingClassifier(),\n",
    "}"
   ]
  },
  {
   "cell_type": "code",
   "execution_count": 182,
   "id": "3b167647-a599-4a8f-90d1-a2ae6f7c0acd",
   "metadata": {},
   "outputs": [
    {
     "data": {
      "text/plain": [
       "{'rfc': 0.5615928683385579,\n",
       " 'knn': 0.43407719435736675,\n",
       " 'svc': 0.4965811128526646,\n",
       " 'hist_grad': 0.5447100313479624}"
      ]
     },
     "execution_count": 182,
     "metadata": {},
     "output_type": "execute_result"
    }
   ],
   "source": [
    "# setting up results dict (with mean absolute error metric)\n",
    "results = {}\n",
    "\n",
    "# training each model\n",
    "for name, model in models.items():\n",
    "    model.fit(x_train, y_train)\n",
    "    y_preds = model.predict(x_test)# rounding predicions\n",
    "    results[name] = cross_val_score(model, x, y, cv=5).mean()\n",
    "\n",
    "# showing the results\n",
    "results"
   ]
  },
  {
   "cell_type": "code",
   "execution_count": 189,
   "id": "d1798687-9cba-4b80-8d25-e8d1156bec52",
   "metadata": {},
   "outputs": [
    {
     "data": {
      "image/png": "[encoded data removed]",
      "text/plain": [
       "<Figure size 640x480 with 1 Axes>"
      ]
     },
     "metadata": {},
     "output_type": "display_data"
    }
   ],
   "source": [
    "df_results = pd.DataFrame(results, index=[\"score\"])\n",
    "df_results.T.plot.bar()\n",
    "plt.xlabel(\"model\")\n",
    "plt.ylabel(\"accyacy (cross mean)\")\n",
    "plt.xticks(rotation=False);"
   ]
  },
  {
   "cell_type": "markdown",
   "id": "c31dd69f-c06d-49aa-8bae-854cfeea5af1",
   "metadata": {},
   "source": [
    "The metric used was the `accuracy` and the best score was achieved by the RandomForestClassifier model"
   ]
  },
  {
   "cell_type": "code",
   "execution_count": 162,
   "id": "0e16d58e-3b29-4608-8dd1-40b0c50c92d4",
   "metadata": {},
   "outputs": [
    {
     "data": {
      "text/html": [
       "<style>#sk-container-id-6 {color: black;}#sk-container-id-6 pre{padding: 0;}#sk-container-id-6 div.sk-toggleable {background-color: white;}#sk-container-id-6 label.sk-toggleable__label {cursor: pointer;display: block;width: 100%;margin-bottom: 0;padding: 0.3em;box-sizing: border-box;text-align: center;}#sk-container-id-6 label.sk-toggleable__label-arrow:before {content: \"▸\";float: left;margin-right: 0.25em;color: #696969;}#sk-container-id-6 label.sk-toggleable__label-arrow:hover:before {color: black;}#sk-container-id-6 div.sk-estimator:hover label.sk-toggleable__label-arrow:before {color: black;}#sk-container-id-6 div.sk-toggleable__content {max-height: 0;max-width: 0;overflow: hidden;text-align: left;background-color: #f0f8ff;}#sk-container-id-6 div.sk-toggleable__content pre {margin: 0.2em;color: black;border-radius: 0.25em;background-color: #f0f8ff;}#sk-container-id-6 input.sk-toggleable__control:checked~div.sk-toggleable__content {max-height: 200px;max-width: 100%;overflow: auto;}#sk-container-id-6 input.sk-toggleable__control:checked~label.sk-toggleable__label-arrow:before {content: \"▾\";}#sk-container-id-6 div.sk-estimator input.sk-toggleable__control:checked~label.sk-toggleable__label {background-color: #d4ebff;}#sk-container-id-6 div.sk-label input.sk-toggleable__control:checked~label.sk-toggleable__label {background-color: #d4ebff;}#sk-container-id-6 input.sk-hidden--visually {border: 0;clip: rect(1px 1px 1px 1px);clip: rect(1px, 1px, 1px, 1px);height: 1px;margin: -1px;overflow: hidden;padding: 0;position: absolute;width: 1px;}#sk-container-id-6 div.sk-estimator {font-family: monospace;background-color: #f0f8ff;border: 1px dotted black;border-radius: 0.25em;box-sizing: border-box;margin-bottom: 0.5em;}#sk-container-id-6 div.sk-estimator:hover {background-color: #d4ebff;}#sk-container-id-6 div.sk-parallel-item::after {content: \"\";width: 100%;border-bottom: 1px solid gray;flex-grow: 1;}#sk-container-id-6 div.sk-label:hover label.sk-toggleable__label {background-color: #d4ebff;}#sk-container-id-6 div.sk-serial::before {content: \"\";position: absolute;border-left: 1px solid gray;box-sizing: border-box;top: 0;bottom: 0;left: 50%;z-index: 0;}#sk-container-id-6 div.sk-serial {display: flex;flex-direction: column;align-items: center;background-color: white;padding-right: 0.2em;padding-left: 0.2em;position: relative;}#sk-container-id-6 div.sk-item {position: relative;z-index: 1;}#sk-container-id-6 div.sk-parallel {display: flex;align-items: stretch;justify-content: center;background-color: white;position: relative;}#sk-container-id-6 div.sk-item::before, #sk-container-id-6 div.sk-parallel-item::before {content: \"\";position: absolute;border-left: 1px solid gray;box-sizing: border-box;top: 0;bottom: 0;left: 50%;z-index: -1;}#sk-container-id-6 div.sk-parallel-item {display: flex;flex-direction: column;z-index: 1;position: relative;background-color: white;}#sk-container-id-6 div.sk-parallel-item:first-child::after {align-self: flex-end;width: 50%;}#sk-container-id-6 div.sk-parallel-item:last-child::after {align-self: flex-start;width: 50%;}#sk-container-id-6 div.sk-parallel-item:only-child::after {width: 0;}#sk-container-id-6 div.sk-dashed-wrapped {border: 1px dashed gray;margin: 0 0.4em 0.5em 0.4em;box-sizing: border-box;padding-bottom: 0.4em;background-color: white;}#sk-container-id-6 div.sk-label label {font-family: monospace;font-weight: bold;display: inline-block;line-height: 1.2em;}#sk-container-id-6 div.sk-label-container {text-align: center;}#sk-container-id-6 div.sk-container {/* jupyter's `normalize.less` sets `[hidden] { display: none; }` but bootstrap.min.css set `[hidden] { display: none !important; }` so we also need the `!important` here to be able to override the default hidden behavior on the sphinx rendered scikit-learn.org. See: https://github.com/scikit-learn/scikit-learn/issues/21755 */display: inline-block !important;position: relative;}#sk-container-id-6 div.sk-text-repr-fallback {display: none;}</style><div id=\"sk-container-id-6\" class=\"sk-top-container\"><div class=\"sk-text-repr-fallback\"><pre>RandomizedSearchCV(estimator=RandomForestClassifier(random_state=324),\n",
       "                   n_iter=20,\n",
       "                   param_distributions={&#x27;max_depth&#x27;: [None, 2, 4, 8, 16],\n",
       "                                        &#x27;max_leaf_nodes&#x27;: [None, 2, 4, 8, 16],\n",
       "                                        &#x27;min_samples_split&#x27;: [2, 4, 6, 8],\n",
       "                                        &#x27;n_estimators&#x27;: [100, 120, 150],\n",
       "                                        &#x27;n_jobs&#x27;: [-1]})</pre><b>In a Jupyter environment, please rerun this cell to show the HTML representation or trust the notebook. <br />On GitHub, the HTML representation is unable to render, please try loading this page with nbviewer.org.</b></div><div class=\"sk-container\" hidden><div class=\"sk-item sk-dashed-wrapped\"><div class=\"sk-label-container\"><div class=\"sk-label sk-toggleable\"><input class=\"sk-toggleable__control sk-hidden--visually\" id=\"sk-estimator-id-16\" type=\"checkbox\" ><label for=\"sk-estimator-id-16\" class=\"sk-toggleable__label sk-toggleable__label-arrow\">RandomizedSearchCV</label><div class=\"sk-toggleable__content\"><pre>RandomizedSearchCV(estimator=RandomForestClassifier(random_state=324),\n",
       "                   n_iter=20,\n",
       "                   param_distributions={&#x27;max_depth&#x27;: [None, 2, 4, 8, 16],\n",
       "                                        &#x27;max_leaf_nodes&#x27;: [None, 2, 4, 8, 16],\n",
       "                                        &#x27;min_samples_split&#x27;: [2, 4, 6, 8],\n",
       "                                        &#x27;n_estimators&#x27;: [100, 120, 150],\n",
       "                                        &#x27;n_jobs&#x27;: [-1]})</pre></div></div></div><div class=\"sk-parallel\"><div class=\"sk-parallel-item\"><div class=\"sk-item\"><div class=\"sk-label-container\"><div class=\"sk-label sk-toggleable\"><input class=\"sk-toggleable__control sk-hidden--visually\" id=\"sk-estimator-id-17\" type=\"checkbox\" ><label for=\"sk-estimator-id-17\" class=\"sk-toggleable__label sk-toggleable__label-arrow\">estimator: RandomForestClassifier</label><div class=\"sk-toggleable__content\"><pre>RandomForestClassifier(random_state=324)</pre></div></div></div><div class=\"sk-serial\"><div class=\"sk-item\"><div class=\"sk-estimator sk-toggleable\"><input class=\"sk-toggleable__control sk-hidden--visually\" id=\"sk-estimator-id-18\" type=\"checkbox\" ><label for=\"sk-estimator-id-18\" class=\"sk-toggleable__label sk-toggleable__label-arrow\">RandomForestClassifier</label><div class=\"sk-toggleable__content\"><pre>RandomForestClassifier(random_state=324)</pre></div></div></div></div></div></div></div></div></div></div>"
      ],
      "text/plain": [
       "RandomizedSearchCV(estimator=RandomForestClassifier(random_state=324),\n",
       "                   n_iter=20,\n",
       "                   param_distributions={'max_depth': [None, 2, 4, 8, 16],\n",
       "                                        'max_leaf_nodes': [None, 2, 4, 8, 16],\n",
       "                                        'min_samples_split': [2, 4, 6, 8],\n",
       "                                        'n_estimators': [100, 120, 150],\n",
       "                                        'n_jobs': [-1]})"
      ]
     },
     "execution_count": 162,
     "metadata": {},
     "output_type": "execute_result"
    }
   ],
   "source": [
    "### Tunning hyperparameters\n",
    "rfc_distribs = {\n",
    "    \"n_estimators\": [100, 120, 150],\n",
    "    \"max_depth\": [None, 2, 4, 8, 16],\n",
    "    \"min_samples_split\": [2, 4, 6, 8],\n",
    "    \"max_leaf_nodes\": [None, 2, 4, 8, 16],\n",
    "    \"n_jobs\": [-1]\n",
    "}\n",
    "\n",
    "# making combinations\n",
    "tuned_model = RandomizedSearchCV(estimator=RandomForestClassifier(random_state=324),\n",
    "                                      param_distributions=rfc_distribs,\n",
    "                                      n_iter=20)\n",
    "\n",
    "# fitting\n",
    "tuned_model.fit(x_train, y_train)"
   ]
  },
  {
   "cell_type": "markdown",
   "id": "82018486-4bd8-446a-92a3-631114107094",
   "metadata": {},
   "source": [
    "Little improvement was made: 0.559 -> 0.563"
   ]
  },
  {
   "cell_type": "code",
   "execution_count": 165,
   "id": "bc84f6e7-3833-4cf8-89c3-7f7eecb10a37",
   "metadata": {},
   "outputs": [
    {
     "data": {
      "text/plain": [
       "{'n_jobs': -1,\n",
       " 'n_estimators': 120,\n",
       " 'min_samples_split': 4,\n",
       " 'max_leaf_nodes': 16,\n",
       " 'max_depth': None}"
      ]
     },
     "execution_count": 165,
     "metadata": {},
     "output_type": "execute_result"
    }
   ],
   "source": [
    "tuned_model.best_params_"
   ]
  },
  {
   "cell_type": "markdown",
   "id": "6b2c20d6-fb38-4d46-9f36-04dd5c5d8141",
   "metadata": {},
   "source": [
    "### Using the best params to build the final model"
   ]
  },
  {
   "cell_type": "code",
   "execution_count": 233,
   "id": "641b4259-dbc7-442c-a591-748f7858fb47",
   "metadata": {},
   "outputs": [
    {
     "data": {
      "text/html": [
       "<style>#sk-container-id-8 {color: black;}#sk-container-id-8 pre{padding: 0;}#sk-container-id-8 div.sk-toggleable {background-color: white;}#sk-container-id-8 label.sk-toggleable__label {cursor: pointer;display: block;width: 100%;margin-bottom: 0;padding: 0.3em;box-sizing: border-box;text-align: center;}#sk-container-id-8 label.sk-toggleable__label-arrow:before {content: \"▸\";float: left;margin-right: 0.25em;color: #696969;}#sk-container-id-8 label.sk-toggleable__label-arrow:hover:before {color: black;}#sk-container-id-8 div.sk-estimator:hover label.sk-toggleable__label-arrow:before {color: black;}#sk-container-id-8 div.sk-toggleable__content {max-height: 0;max-width: 0;overflow: hidden;text-align: left;background-color: #f0f8ff;}#sk-container-id-8 div.sk-toggleable__content pre {margin: 0.2em;color: black;border-radius: 0.25em;background-color: #f0f8ff;}#sk-container-id-8 input.sk-toggleable__control:checked~div.sk-toggleable__content {max-height: 200px;max-width: 100%;overflow: auto;}#sk-container-id-8 input.sk-toggleable__control:checked~label.sk-toggleable__label-arrow:before {content: \"▾\";}#sk-container-id-8 div.sk-estimator input.sk-toggleable__control:checked~label.sk-toggleable__label {background-color: #d4ebff;}#sk-container-id-8 div.sk-label input.sk-toggleable__control:checked~label.sk-toggleable__label {background-color: #d4ebff;}#sk-container-id-8 input.sk-hidden--visually {border: 0;clip: rect(1px 1px 1px 1px);clip: rect(1px, 1px, 1px, 1px);height: 1px;margin: -1px;overflow: hidden;padding: 0;position: absolute;width: 1px;}#sk-container-id-8 div.sk-estimator {font-family: monospace;background-color: #f0f8ff;border: 1px dotted black;border-radius: 0.25em;box-sizing: border-box;margin-bottom: 0.5em;}#sk-container-id-8 div.sk-estimator:hover {background-color: #d4ebff;}#sk-container-id-8 div.sk-parallel-item::after {content: \"\";width: 100%;border-bottom: 1px solid gray;flex-grow: 1;}#sk-container-id-8 div.sk-label:hover label.sk-toggleable__label {background-color: #d4ebff;}#sk-container-id-8 div.sk-serial::before {content: \"\";position: absolute;border-left: 1px solid gray;box-sizing: border-box;top: 0;bottom: 0;left: 50%;z-index: 0;}#sk-container-id-8 div.sk-serial {display: flex;flex-direction: column;align-items: center;background-color: white;padding-right: 0.2em;padding-left: 0.2em;position: relative;}#sk-container-id-8 div.sk-item {position: relative;z-index: 1;}#sk-container-id-8 div.sk-parallel {display: flex;align-items: stretch;justify-content: center;background-color: white;position: relative;}#sk-container-id-8 div.sk-item::before, #sk-container-id-8 div.sk-parallel-item::before {content: \"\";position: absolute;border-left: 1px solid gray;box-sizing: border-box;top: 0;bottom: 0;left: 50%;z-index: -1;}#sk-container-id-8 div.sk-parallel-item {display: flex;flex-direction: column;z-index: 1;position: relative;background-color: white;}#sk-container-id-8 div.sk-parallel-item:first-child::after {align-self: flex-end;width: 50%;}#sk-container-id-8 div.sk-parallel-item:last-child::after {align-self: flex-start;width: 50%;}#sk-container-id-8 div.sk-parallel-item:only-child::after {width: 0;}#sk-container-id-8 div.sk-dashed-wrapped {border: 1px dashed gray;margin: 0 0.4em 0.5em 0.4em;box-sizing: border-box;padding-bottom: 0.4em;background-color: white;}#sk-container-id-8 div.sk-label label {font-family: monospace;font-weight: bold;display: inline-block;line-height: 1.2em;}#sk-container-id-8 div.sk-label-container {text-align: center;}#sk-container-id-8 div.sk-container {/* jupyter's `normalize.less` sets `[hidden] { display: none; }` but bootstrap.min.css set `[hidden] { display: none !important; }` so we also need the `!important` here to be able to override the default hidden behavior on the sphinx rendered scikit-learn.org. See: https://github.com/scikit-learn/scikit-learn/issues/21755 */display: inline-block !important;position: relative;}#sk-container-id-8 div.sk-text-repr-fallback {display: none;}</style><div id=\"sk-container-id-8\" class=\"sk-top-container\"><div class=\"sk-text-repr-fallback\"><pre>RandomForestClassifier(max_leaf_nodes=16, min_samples_split=4, n_estimators=120,\n",
       "                       n_jobs=-1, random_state=342)</pre><b>In a Jupyter environment, please rerun this cell to show the HTML representation or trust the notebook. <br />On GitHub, the HTML representation is unable to render, please try loading this page with nbviewer.org.</b></div><div class=\"sk-container\" hidden><div class=\"sk-item\"><div class=\"sk-estimator sk-toggleable\"><input class=\"sk-toggleable__control sk-hidden--visually\" id=\"sk-estimator-id-20\" type=\"checkbox\" checked><label for=\"sk-estimator-id-20\" class=\"sk-toggleable__label sk-toggleable__label-arrow\">RandomForestClassifier</label><div class=\"sk-toggleable__content\"><pre>RandomForestClassifier(max_leaf_nodes=16, min_samples_split=4, n_estimators=120,\n",
       "                       n_jobs=-1, random_state=342)</pre></div></div></div></div></div>"
      ],
      "text/plain": [
       "RandomForestClassifier(max_leaf_nodes=16, min_samples_split=4, n_estimators=120,\n",
       "                       n_jobs=-1, random_state=342)"
      ]
     },
     "execution_count": 233,
     "metadata": {},
     "output_type": "execute_result"
    }
   ],
   "source": [
    "# creating the model\n",
    "model = RandomForestClassifier(n_jobs=-1,\n",
    "                               n_estimators=120,\n",
    "                               min_samples_split=4,\n",
    "                              max_leaf_nodes=16,\n",
    "                              max_depth=None,\n",
    "                              random_state=342)\n",
    "\n",
    "# training the model\n",
    "model.fit(x_train, y_train)"
   ]
  },
  {
   "cell_type": "code",
   "execution_count": 254,
   "id": "d1642263-25b9-49d3-bc77-6e404869261a",
   "metadata": {},
   "outputs": [],
   "source": [
    "# Making predictions\n",
    "y_preds = model.predict(x_test)"
   ]
  },
  {
   "cell_type": "code",
   "execution_count": null,
   "id": "e264d1e7-068d-420c-9154-e31bce2ccbc7",
   "metadata": {},
   "outputs": [],
   "source": [
    "# seeing the score\n",
    "cross_val_score(model, x, y, cv=5).mean()"
   ]
  },
  {
   "cell_type": "markdown",
   "id": "ac5322d3-be46-4779-9ebd-a89eddf8ed49",
   "metadata": {},
   "source": [
    "Improvement from initial model: 0.559 -> 0.579\n",
    "\n",
    "this means that the model has `57.9% of classifying the wine correctly`"
   ]
  },
  {
   "cell_type": "markdown",
   "id": "1b889066-22e3-4be9-9261-454724fcaf24",
   "metadata": {},
   "source": [
    "### Showing the features importances"
   ]
  },
  {
   "cell_type": "code",
   "execution_count": 221,
   "id": "e47fa84b-3eb1-42be-a581-6f0013e47536",
   "metadata": {},
   "outputs": [
    {
     "data": {
      "image/png": "[encoded data removed]",
      "text/plain": [
       "<Figure size 640x480 with 1 Axes>"
      ]
     },
     "metadata": {},
     "output_type": "display_data"
    }
   ],
   "source": [
    "analy_df = pd.DataFrame(model.feature_importances_,\n",
    "                        index=df.drop(\"quality\", axis=1).columns,\n",
    "                        columns=[\"importance\"]\n",
    "                       )\n",
    "analy_df.sort_values(by=[\"importance\"], inplace=True)\n",
    "analy_df.plot.barh();"
   ]
  },
  {
   "cell_type": "markdown",
   "id": "995b2207-9ba3-4308-b8a3-8e58e9f4a333",
   "metadata": {},
   "source": [
    "We predicted that the volatile acidity would have some importance in predicting `quality`, and it was right. However the `most importante feature` that the RandomForestClassifier algorithm founded was the alcohol feature."
   ]
  },
  {
   "cell_type": "markdown",
   "id": "c9ab4e96-8949-4788-bcd3-0b591c1575c9",
   "metadata": {},
   "source": [
    "## Results"
   ]
  },
  {
   "cell_type": "markdown",
   "id": "e6eeec77-1445-4eed-8dc2-6d0d951998c6",
   "metadata": {},
   "source": [
    "### Confusion Matrix"
   ]
  },
  {
   "cell_type": "code",
   "execution_count": 250,
   "id": "34c0f33a-8b83-4f35-90af-1277e4dc58fe",
   "metadata": {},
   "outputs": [
    {
     "data": {
      "image/png": "[encoded data removed]",
      "text/plain": [
       "<Figure size 640x480 with 2 Axes>"
      ]
     },
     "metadata": {},
     "output_type": "display_data"
    }
   ],
   "source": [
    "ConfusionMatrixDisplay.from_estimator(model, x_test, y_test);"
   ]
  },
  {
   "cell_type": "markdown",
   "id": "a4d66bcf-709c-4e24-bc05-2110223f5372",
   "metadata": {},
   "source": [
    "As the matrix suggest, the model is struggling to classifying the mid quality wines. See the `7th row` and `6th column`. The model predict 37 sambles of being classified as quality 6, but it was acctauly quality 7."
   ]
  },
  {
   "cell_type": "markdown",
   "id": "57a07821-446d-4ca2-87df-f3657a28eb7a",
   "metadata": {},
   "source": [
    "### Accuracy\n",
    "\n",
    "`The model has currently about 58% of chance in classyfing corretly the wine`"
   ]
  },
  {
   "cell_type": "code",
   "execution_count": null,
   "id": "d6d6ec92-0780-4f79-8e41-2ce2c6f2f9b1",
   "metadata": {},
   "outputs": [],
   "source": []
  }
 ],
 "metadata": {
  "kernelspec": {
   "display_name": "Python 3 (ipykernel)",
   "language": "python",
   "name": "python3"
  },
  "language_info": {
   "codemirror_mode": {
    "name": "ipython",
    "version": 3
   },
   "file_extension": ".py",
   "mimetype": "text/x-python",
   "name": "python",
   "nbconvert_exporter": "python",
   "pygments_lexer": "ipython3",
   "version": "3.9.18"
  }
 },
 "nbformat": 4,
 "nbformat_minor": 5
}
